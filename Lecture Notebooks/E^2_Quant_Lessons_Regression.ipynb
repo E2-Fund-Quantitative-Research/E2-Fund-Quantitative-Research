{
 "cells": [
  {
   "cell_type": "markdown",
   "metadata": {},
   "source": [
    "# **Regression for Quantitative Finance: Part 1**"
   ]
  },
  {
   "cell_type": "code",
   "execution_count": null,
   "metadata": {
    "id": "WFxZswoVUEjk"
   },
   "outputs": [],
   "source": [
    "# imports\n",
    "import numpy as np\n",
    "import pandas as pd\n",
    "import yfinance as yf\n",
    "import matplotlib.pyplot as plt\n",
    "from sklearn.linear_model import LinearRegression\n",
    "import statsmodels.api as sm # call <! pip install statsmodels>"
   ]
  },
  {
   "cell_type": "markdown",
   "metadata": {
    "id": "w5ukt84SQnHO"
   },
   "source": [
    "## **Regression Introduction**\n",
    "\n",
    "Chapter Content:\n",
    "* What is Regression\n",
    "* Ordinary Least Squares (OLS) estimation\n",
    "* Simple Linear Regression  \n",
    "* Multiple Linear Regression\n",
    "* Regression in Matrix form\n",
    "* OLS optimisation solution (general case)"
   ]
  },
  {
   "cell_type": "markdown",
   "metadata": {
    "id": "sq_xKEFoRZ-n"
   },
   "source": [
    "### **What is Regression:**\n",
    "\n",
    "Wikipedia's definition: \"In statistical modeling, regression analysis is a set of statistical processes for estimating the relationships between a dependent variable ... and one or more independent variables...\"\n",
    "\n",
    "### **Why construct a regression model ?...**\n",
    "\n",
    "1.   We may want to model the relationship between at least 2 or more variables (you can construct a regression using only one variable, this is called autoregression, and we will cover it in the future) to infer some causal relationship between the independent and dependant variable\n",
    "2.   Interpolate, Forcast / Predict (Extrapolate) the relationship between variables\n",
    "\n",
    "### **Regression Model Form**\n",
    "\n",
    "Regression models purpose that $y$ (the dependant variable) is a function of the independent variables, $x$, and its effect on the dependant variables ($\\beta$). Therefore, we have a model of form\n",
    "\n",
    "$$\n",
    "y_i = f(x_i, \\beta) + \\epsilon_i ; \\quad \\epsilon_i \\sim N(\\mu = 0, \\sigma^2 = 1)\n",
    "$$\n",
    "\n",
    "This model is called the \"Population Regression\" and is often denoted as\n",
    "\n",
    "### **Simple Linear Regression (SLR):**\n",
    "\n",
    "In the SLR case The population model in the SLR case is \n",
    "\n",
    "$$\n",
    "y_i = f(x_i, \\beta) + \\epsilon_i = \\beta_0 + \\beta_1 x_i + \\epsilon_i\n",
    "$$\n",
    "\n",
    "The \"population model is the regression model if we were to have all available data which is perfectly sampled with no inaccuracy (this is impossible). Ordinary Least Squares (OLS) is the estimation technique we use to solve the regression problem. OLS will provide us with an estimate of these \"population parameters\": $\\hat{y}, \\hat{f}(x, \\beta)$. We can now define the fitted/estimated model. \n",
    "\n",
    "As a result of OLS we now have the following model\n",
    "\n",
    "$$\n",
    "\\hat{y}_i = \\hat{f}(x, \\hat{\\beta}) + e_i\n",
    "$$\n",
    "\n",
    "Where,\n",
    "* True variables:\n",
    "  * $x$ = Independent Variable (we think this variable \"causes\" variable $y$)\n",
    "  * $y$ = This is the dependant variable (The variable we think is \"caused\" by $x$)\n",
    "* Population / True Parameter\n",
    "  * $\\beta_0$ = The intercept term\n",
    "  * $\\beta_1$ = The slope term (this tell us the effect on $y$ for a unit increase in $x$)\n",
    "* $e$ = Residual, this is the estimate of the non-observable error term \n",
    "\n",
    "### **Ordinary Least Squares (OLS) Estimation:**\n",
    "\n",
    "OLS is a estimation technique for regression equations.\n",
    "\n",
    "Particularly...\n",
    "\n",
    "* OLS determines the best fitting straight line through a set of data points.\n",
    "* OLS aims to minimize the sum of squared distances between the actual data points, $y_i$ and the estimated data points $\\hat{y_i}$, often called the residuals, $e_i$.\n",
    "* OLS estimates the unknown parameters $\\beta_0$ and $\\beta_1$ by using the observations in the sample, $y_i$ and $x_i$ for $i = 1,...,n$ (this is the index of the series, which must be of equal length for $y$ and $x$).\n",
    "\n",
    "The intercept and slope estimates are obtained by solving the following minimisation problem (the OLS minimisation problem).\n",
    "\n",
    "$$\n",
    "\\sum_{i=1}^n (e_i)^2 = \\sum_{i=1}^n \\left( y_i - \\hat{y_i} \\right)^2 = \\sum_{i=1}^n \\left( y_i - f(x_i, \\beta) \\right)^2\n",
    "$$\n",
    "\n",
    "This is referred to as the objective or loss function, as stated prior by minimising this optimization problem we yield the OLS estimators of the slope ($\\beta_1$) and intercept ($\\beta_0$).\n",
    "\n",
    "For the simple linear regression case (is uni-variate as it is a function of one variable $x$) the solution to the optimization problem will be\n",
    "\n",
    "$$\n",
    "\\hat{\\beta}_1 = \\frac{\\sum_{i=1}^{n} (x_i - \\bar{x}) (y_i - \\bar{y})}{\\sum_{i=1}^{n} (x - \\bar{x})^2} \\\\\n",
    "\n",
    "\\hat{\\beta_0} = \\hat{y} - \\hat{\\beta}_1 \\hat{x}\n",
    "$$\n",
    "\n",
    "where,\n",
    "* $\\hat{x}$ = the sample mean estimator of $x$\n",
    "* $\\hat{y}$ = the sample mean estimator of $y$\n",
    "\n",
    "To see how you can solve the OLS minimisation problem in the simple case see Appendix [2]."
   ]
  },
  {
   "cell_type": "markdown",
   "metadata": {},
   "source": [
    "## **SLR Function**"
   ]
  },
  {
   "cell_type": "code",
   "execution_count": null,
   "metadata": {
    "id": "ELxDhE82PBD8"
   },
   "outputs": [],
   "source": [
    "# let's create a simple linear regression using the OLS optimisation parameter solutions (these are the estimates)\n",
    "\n",
    "class OLS:\n",
    "  def __init__(self, IndependantVariable, DependantVariable, bias = True):\n",
    "    self.RegressionType = \"SLR\"\n",
    "    self.x = IndependantVariable.values\n",
    "    self.y = DependantVariable.values\n",
    "    self.bias = 1 if bias else 0\n",
    "\n",
    "  def slr(self):\n",
    "\n",
    "    # get means\n",
    "    if len(self.x) == len(self.y):\n",
    "        xbar = np.sum(self.x) / len(self.x)\n",
    "        ybar = np.sum(self.y) / len(self.y)\n",
    "    else:\n",
    "      raise ValueError(\"Input lists must have the same length.\")\n",
    "\n",
    "    # parameter estimates\n",
    "    n = [(i - xbar)*(j - ybar) for i, j in zip(self.x, self.y)] # zip combines elements with equal index frm the input iterable\n",
    "    cov = np.sum(n) / len(self.x)\n",
    "    d = [(k - xbar)**2 for k in self.x]\n",
    "    var = np.sum(d) / len(self.y)\n",
    "    b1hat = (1/var)*cov\n",
    "    b0hat = ybar - b1hat*xbar\n",
    "    x2 = np.linspace(self.x[0].min(), self.y[1].max(), 100)\n",
    "    yhat = b0hat + b1hat*x2 + 0\n",
    "\n",
    "    return b0hat, b1hat, x2, yhat\n"
   ]
  },
  {
   "cell_type": "markdown",
   "metadata": {
    "id": "DGqO6hO7f_rZ"
   },
   "source": [
    "Implementing regression function on real stock data "
   ]
  },
  {
   "cell_type": "code",
   "execution_count": null,
   "metadata": {
    "colab": {
     "base_uri": "https://localhost:8080/"
    },
    "id": "OUyCAJk-UeEN",
    "outputId": "26c1a2c6-6d4d-4a0d-a11b-a6ea02ba013a"
   },
   "outputs": [
    {
     "name": "stderr",
     "output_type": "stream",
     "text": [
      "[*********************100%%**********************]  1 of 1 completed\n",
      "[*********************100%%**********************]  1 of 1 completed\n"
     ]
    }
   ],
   "source": [
    "# custom function to get returns for more than one stock\n",
    "def returns(stocks: list, start_date , end_date):\n",
    "  returns = []\n",
    "  for i in range(len(stocks)): # note that indexing is exclusive, omiting the last index => (]\n",
    "    stock = yf.download(stocks[i], start_date, end_date)\n",
    "    stock = stock[\"Close\"]\n",
    "    returns.append(stock.pct_change().dropna())\n",
    "  return returns\n",
    "\n",
    "# call function\n",
    "start_date, end_date = \"2020-01-01\", \"2023-12-31\"\n",
    "tickers = [\"ZM\", \"TSLA\"]\n",
    "returns_slr = returns(tickers, start_date, end_date)"
   ]
  },
  {
   "cell_type": "markdown",
   "metadata": {
    "id": "X6UVMucjgBwy"
   },
   "source": [
    "Instentiate regression class and get parameters"
   ]
  },
  {
   "cell_type": "code",
   "execution_count": null,
   "metadata": {
    "colab": {
     "base_uri": "https://localhost:8080/"
    },
    "id": "1xe5j_lMUIr8",
    "outputId": "13f29400-ae5d-4cd9-f5d3-da4dcb38637a"
   },
   "outputs": [
    {
     "name": "stdout",
     "output_type": "stream",
     "text": [
      "β0: 0.0027571752258973934, \n",
      "β1: 0.39226441004227336\n"
     ]
    }
   ],
   "source": [
    "# lets estimate our regression\n",
    "Regression = OLS(returns_slr[0], returns_slr[1])\n",
    "beta0, beta1, x2, yhat = Regression.slr()\n",
    "print(\"β0: %s, \\nβ1: %s\" %(beta0, beta1))"
   ]
  },
  {
   "cell_type": "markdown",
   "metadata": {
    "id": "Ly8ipXLgp1HP"
   },
   "source": [
    "Now that we have our regression parameter estimates we can plot our regression model."
   ]
  },
  {
   "cell_type": "code",
   "execution_count": null,
   "metadata": {
    "colab": {
     "base_uri": "https://localhost:8080/",
     "height": 449
    },
    "id": "1TjUmXs82Ypp",
    "outputId": "b6f138fb-3856-47c0-d526-9ac6fadb1472"
   },
   "outputs": [
    {
     "data": {
      "image/png": "[encoded data removed]",
      "text/plain": [
       "<Figure size 640x480 with 1 Axes>"
      ]
     },
     "metadata": {},
     "output_type": "display_data"
    }
   ],
   "source": [
    "plt.scatter(returns_slr[0], returns_slr[1], alpha = 0.5)\n",
    "plt.plot(x2, yhat, label = \"SLR estimation\", alpha = 0.9, color = \"red\")\n",
    "plt.xlabel(f\"{tickers[0]} through time\")\n",
    "plt.ylabel(f\"{tickers[1]} through time\")\n",
    "plt.title(f'Regression of {tickers[0]} vs {tickers[1]} Simple Market Returns')\n",
    "plt.legend();"
   ]
  },
  {
   "cell_type": "markdown",
   "metadata": {
    "id": "i-NAzl6O4tdw"
   },
   "source": [
    "## **Multiple Linear Regression:**\n",
    "\n",
    "We can extend the regression to include more independent variables, hence the name MLR. This may be useful as...\n",
    "\n",
    "*   We want more accurate predictions. This can be achieved by including more than one independent variable affecting the dependent variable we are trying to model. Leaving out these key variables means that there are many confounding variables in our regression leading to bias estimates (the variation in y attributed to x is bias as x over / under estimates its true effect)\n",
    "\n",
    "### **Multiple Linear Regression Model Example**\n",
    "\n",
    "$$\n",
    "y_i = \\beta_0 + \\beta_1 x_{i, 1} + \\dots \\beta_p x_{i, p} + \\epsilon_i\n",
    "$$\n",
    "\n",
    "where:\n",
    "* $i = 1,...,n$ (the index order)\n",
    "* $p$ = The number of regressor terms (independent variables), this is equal to $k - 1$, were k is the number of coefficient terms.\n",
    "\n",
    "We say the MLR model has $n$ independent variables and $p$ coefficients.\n",
    "\n",
    "\n",
    "### **Regression Matrix Form**\n",
    "\n",
    "Given n MLR models, instead of writing each model out n times we can summarise this list of models using matrix notation.\n",
    "\n",
    "$$\n",
    "\\begin{bmatrix} Y_1 \\\\ \\vdots \\\\ Y_n \\end{bmatrix}_{n \\times 1} = \n",
    "\\begin{bmatrix} \n",
    "1 & X_{11} & \\cdots & X_{1k} \\\\\n",
    "1 & \\vdots & \\ddots & \\vdots \\\\\n",
    "1 & X_{n1} & \\cdots & X_{nk} \n",
    "\\end{bmatrix}_{n \\times (k+1)} \n",
    "\\begin{bmatrix} \\beta_0 \\\\ \\beta_1 \\\\ \\vdots \\\\ \\beta_k \\end{bmatrix}_{(k+1) \\times 1} + \n",
    "\\begin{bmatrix} \\varepsilon_1 \\\\ \\vdots \\\\ \\varepsilon_n \\end{bmatrix}_{n \\times 1}\n",
    "$$\n",
    "\n",
    "Where,\n",
    "*  $Y_{n \\times 1}$ = dependant variable column vector\n",
    "*  $X_{n \\times K}$ = Independent variable matrix where $n>>k$, each row is an $iid$ observation of our $k$ dimensional feature vector and the entire row represents the $n$'th regressand value. Each column represents all $n$ $iid$ values of the $k$'th regressor.\n",
    "*  $\\beta_{n \\times 1}$ = Parameter column vector\n",
    "*  $\\epsilon_{nx1}$ = Error (unobserved) column vector, assumed to equal 0.\n",
    "\n",
    "This can be writen more simply like this...\n",
    "\n",
    "\n",
    "$$\n",
    "\\boldsymbol{Y}_i = \\boldsymbol{X}_{i, p} \\cdot \\boldsymbol{\\beta} + \\boldsymbol{\\epsilon}_i \\implies \\boldsymbol{Y} = \\boldsymbol{X} \\cdot \\boldsymbol{\\beta} + \\boldsymbol{\\epsilon}\n",
    "$$\n",
    "\n",
    "\n",
    "where,\n",
    "* $\\boldsymbol{Y} \\in \\mathbb{R}^{n}$ = dependant variable column vector\n",
    "* $\\boldsymbol{X} \\in \\mathbb{R}^{n \\times p}$ = independent variable matrix (each column in this matrix represents the list of all independent variable values for one single independent variable, their are k independent variables in MLR models)\n",
    "* $\\boldsymbol{\\beta} \\in \\mathbb{R}^{p}$ = coefficient column vector\n",
    "* $\\boldsymbol{\\epsilon} \\in \\mathbb{R}^{p}$ = error column vector\n",
    "\n",
    "### **OLS solution in the general case**\n",
    "\n",
    "The least squares problem is defined as\n",
    "\n",
    "$$\n",
    "\\min_{\\boldsymbol{\\beta}} || \\boldsymbol{e} ||_2^{2} = \\min_{\\boldsymbol{\\beta}} || \\boldsymbol{Y} - \\boldsymbol{\\hat{Y}} ||_2^{2} \n",
    "$$\n",
    "\n",
    "Where $|| f(\\boldsymbol{X},\\boldsymbol{\\beta}) ||_2^2$ denotes the squared Eucildean norm of a vector \n",
    "\n",
    "Simpifying and Solving...\n",
    "\n",
    "$$\n",
    "\\begin{align} \\nonumber \n",
    "\\frac{\\partial}{\\partial \\boldsymbol{\\beta}} \\left[ ( \\boldsymbol{Y} - \\boldsymbol{X}\\boldsymbol{\\beta} )^\\top (\\boldsymbol{Y} - \\boldsymbol{X}\\boldsymbol{\\beta}) \\right]  \n",
    "&= \\frac{\\partial}{\\partial \\boldsymbol{\\beta}} \\left[ \\boldsymbol{Y}^\\top \\boldsymbol{Y} - \\boldsymbol{Y}^\\top \\boldsymbol{X}\\boldsymbol{\\beta} - \\boldsymbol{\\beta}^\\top \\boldsymbol{X}^\\top \\boldsymbol{Y} - \\boldsymbol{\\beta}^\\top \\boldsymbol{X}^\\top \\boldsymbol{X} \\boldsymbol{\\beta} \\right] \\\\ \\nonumber\n",
    "&= \\frac{\\partial}{\\partial \\boldsymbol{\\beta}} \\left[ \\boldsymbol{Y}^\\top \\boldsymbol{Y} - 2\\boldsymbol{Y}^\\top \\boldsymbol{X}\\boldsymbol{\\beta} - \\boldsymbol{\\beta}^\\top \\boldsymbol{X}^\\top \\boldsymbol{X} \\boldsymbol{\\beta} \\right] \\\\ \\nonumber\n",
    "&= 2 \\boldsymbol{Y}^\\top \\boldsymbol{X} - 2 \\boldsymbol{X}^\\top \\boldsymbol{X} \\boldsymbol{\\beta} \\\\ \\nonumber \n",
    "\\boldsymbol{X}^\\top \\boldsymbol{X} \\boldsymbol{\\beta} &= \\boldsymbol{Y}^\\top \\boldsymbol{X} \\\\  \n",
    "\\boldsymbol{\\beta} &= \\left( \\boldsymbol{X}^\\top \\boldsymbol{X} \\right)^{-1} \\boldsymbol{Y}^\\top \\boldsymbol{X} \n",
    "\\end{align}  \n",
    "$$\n",
    "\n",
    "Equation $1$ is the general solution to the OLS problem. We will now implement this formula numerically."
   ]
  },
  {
   "cell_type": "code",
   "execution_count": null,
   "metadata": {
    "id": "tJIXbeD_iZzq"
   },
   "outputs": [],
   "source": [
    "# let's create a class that calculates the beta parameters of the regression (i.e. solves the OLS problem in the general case)\n",
    "\n",
    "# for two variables\n",
    "class LinearParamOLS:\n",
    "  def __init__(self, x, y):\n",
    "    self.RegressionType = \"SLR\"\n",
    "    self.x = x.values\n",
    "    self.y = y.values\n",
    "\n",
    "  # The general solution to the least squares problem\n",
    "  def ols(self):\n",
    "    X = np.ones((2, len(self.x)))\n",
    "    X[1:,] = self.x\n",
    "    Xt = X.transpose()\n",
    "    XXt = X @ Xt\n",
    "    XXtinv = np.linalg.inv(XXt)\n",
    "    XtY = X @ self.y\n",
    "    param = XXtinv @ XtY\n",
    "    b0, b1 = param[0], param[1]\n",
    "\n",
    "    return b0, b1\n"
   ]
  },
  {
   "cell_type": "markdown",
   "metadata": {},
   "source": [
    "call function"
   ]
  },
  {
   "cell_type": "code",
   "execution_count": null,
   "metadata": {
    "colab": {
     "base_uri": "https://localhost:8080/"
    },
    "id": "bN9d0gF6uiOE",
    "outputId": "b4b8868c-add4-442c-f935-850148136f2a"
   },
   "outputs": [
    {
     "name": "stdout",
     "output_type": "stream",
     "text": [
      "β0: 0.0027571752258973934, \n",
      "β1: 0.39226441004227336\n"
     ]
    }
   ],
   "source": [
    "# results will be equal\n",
    "Regression = LinearParamOLS(returns_slr[0], returns_slr[1])\n",
    "b0, b1 = Regression.ols()\n",
    "print(\"β0: %s, \\nβ1: %s\" %(beta0, beta1))"
   ]
  },
  {
   "cell_type": "markdown",
   "metadata": {},
   "source": [
    "Note that the parameters values will be near identical when using other python packages"
   ]
  },
  {
   "cell_type": "markdown",
   "metadata": {},
   "source": [
    "## **Regression using Python Modules**"
   ]
  },
  {
   "cell_type": "markdown",
   "metadata": {},
   "source": [
    "Now that we know how regressions are calculated we can use the python packages, these packages will provide us with many extra statistics, packages also offer dynamic methods capable of constructing SLR's and MLR's in different forms (e.g. linear models, log-linear models, log-log models and many more)"
   ]
  },
  {
   "cell_type": "markdown",
   "metadata": {
    "id": "l0Zk-8H60Z38"
   },
   "source": [
    "### **Regression in Python using $\\verb|statsmodels|$**"
   ]
  },
  {
   "cell_type": "code",
   "execution_count": null,
   "metadata": {
    "colab": {
     "base_uri": "https://localhost:8080/"
    },
    "id": "dCbetLdC0nCz",
    "outputId": "793c3e1f-dfd8-4688-f235-0d0ed3ad11c5"
   },
   "outputs": [
    {
     "name": "stdout",
     "output_type": "stream",
     "text": [
      "β0: 0.002757175225897394, \n",
      "β1: [0.39226441]\n"
     ]
    }
   ],
   "source": [
    "X = returns_slr[0].values\n",
    "Y = returns_slr[1].values\n",
    "model = LinearRegression().fit(X.reshape(-1, 1), Y) # we transform X into a two-dimensional array (column vector)\n",
    "\n",
    "# get intercept and slope\n",
    "beta0 = model.intercept_\n",
    "beta1 = model.coef_\n",
    "print(\"β0: %s, \\nβ1: %s\" %(beta0, beta1))"
   ]
  },
  {
   "cell_type": "markdown",
   "metadata": {
    "id": "gL3WbafT44De"
   },
   "source": [
    "### **Regression in Python using $\\verb|scikit-learn|$ for more detailed results**"
   ]
  },
  {
   "cell_type": "markdown",
   "metadata": {},
   "source": [
    "SLR example"
   ]
  },
  {
   "cell_type": "code",
   "execution_count": null,
   "metadata": {
    "colab": {
     "base_uri": "https://localhost:8080/"
    },
    "id": "2vUlhv-z40t3",
    "outputId": "5e77e61a-4060-4745-d604-260bc84b6879"
   },
   "outputs": [
    {
     "name": "stdout",
     "output_type": "stream",
     "text": [
      "                            OLS Regression Results                            \n",
      "==============================================================================\n",
      "Dep. Variable:                      y   R-squared:                       0.128\n",
      "Model:                            OLS   Adj. R-squared:                  0.128\n",
      "Method:                 Least Squares   F-statistic:                     147.7\n",
      "Date:                Mon, 11 Mar 2024   Prob (F-statistic):           8.23e-32\n",
      "Time:                        14:29:41   Log-Likelihood:                 1808.1\n",
      "No. Observations:                1005   AIC:                            -3612.\n",
      "Df Residuals:                    1003   BIC:                            -3602.\n",
      "Df Model:                           1                                         \n",
      "Covariance Type:            nonrobust                                         \n",
      "==============================================================================\n",
      "                 coef    std err          t      P>|t|      [0.025      0.975]\n",
      "------------------------------------------------------------------------------\n",
      "const          0.0028      0.001      2.181      0.029       0.000       0.005\n",
      "x1             0.3923      0.032     12.155      0.000       0.329       0.456\n",
      "==============================================================================\n",
      "Omnibus:                      110.533   Durbin-Watson:                   2.059\n",
      "Prob(Omnibus):                  0.000   Jarque-Bera (JB):              775.302\n",
      "Skew:                          -0.193   Prob(JB):                    4.42e-169\n",
      "Kurtosis:                       7.286   Cond. No.                         25.5\n",
      "==============================================================================\n",
      "\n",
      "Notes:\n",
      "[1] Standard Errors assume that the covariance matrix of the errors is correctly specified.\n",
      "R squared:  0.12839187516441142\n"
     ]
    }
   ],
   "source": [
    "# X will now have a column of 1's, this is because this functions calculates the parameters using the regression in matrix form\n",
    "X = sm.add_constant(X)\n",
    "\n",
    "# creating model\n",
    "model = sm.OLS(Y, X)\n",
    "results = model.fit()\n",
    "\n",
    "# get summary\n",
    "print(results.summary())\n",
    "\n",
    "# get some key statistics\n",
    "print(\"R squared: \", results.rsquared)"
   ]
  },
  {
   "cell_type": "markdown",
   "metadata": {
    "id": "-5epCTvi6jk2"
   },
   "source": [
    "MLR Example:"
   ]
  },
  {
   "cell_type": "code",
   "execution_count": null,
   "metadata": {
    "colab": {
     "base_uri": "https://localhost:8080/"
    },
    "id": "cXk2UtmK6lM2",
    "outputId": "35476672-d28e-4edc-ff34-33c72d6b1b3d"
   },
   "outputs": [
    {
     "name": "stderr",
     "output_type": "stream",
     "text": [
      "[*********************100%%**********************]  1 of 1 completed\n",
      "[*********************100%%**********************]  1 of 1 completed\n",
      "[*********************100%%**********************]  1 of 1 completed"
     ]
    },
    {
     "name": "stdout",
     "output_type": "stream",
     "text": [
      "                            OLS Regression Results                            \n",
      "==============================================================================\n",
      "Dep. Variable:                      y   R-squared:                       0.178\n",
      "Model:                            OLS   Adj. R-squared:                  0.176\n",
      "Method:                 Least Squares   F-statistic:                     108.4\n",
      "Date:                Mon, 11 Mar 2024   Prob (F-statistic):           2.43e-43\n",
      "Time:                        14:55:01   Log-Likelihood:                 1928.4\n",
      "No. Observations:                1005   AIC:                            -3851.\n",
      "Df Residuals:                    1002   BIC:                            -3836.\n",
      "Df Model:                           2                                         \n",
      "Covariance Type:            nonrobust                                         \n",
      "==============================================================================\n",
      "                 coef    std err          t      P>|t|      [0.025      0.975]\n",
      "------------------------------------------------------------------------------\n",
      "const         -0.0006      0.001     -0.557      0.577      -0.003       0.002\n",
      "x1             0.2026      0.031      6.600      0.000       0.142       0.263\n",
      "x2             0.2994      0.039      7.765      0.000       0.224       0.375\n",
      "==============================================================================\n",
      "Omnibus:                      442.977   Durbin-Watson:                   2.139\n",
      "Prob(Omnibus):                  0.000   Jarque-Bera (JB):            19934.244\n",
      "Skew:                           1.276   Prob(JB):                         0.00\n",
      "Kurtosis:                      24.669   Cond. No.                         38.8\n",
      "==============================================================================\n",
      "\n",
      "Notes:\n",
      "[1] Standard Errors assume that the covariance matrix of the errors is correctly specified.\n"
     ]
    },
    {
     "name": "stderr",
     "output_type": "stream",
     "text": [
      "\n"
     ]
    }
   ],
   "source": [
    "# lets construct a MLR model with two coefficients\n",
    "tickers = [\"ZM\", \"TSLA\", \"NVDA\"]\n",
    "returns_mlr = returns(tickers, start_date, end_date)\n",
    "\n",
    "# our variables\n",
    "X = list(zip(returns_mlr[1].values, returns_mlr[2].values))\n",
    "Y = returns_mlr[0].values\n",
    "\n",
    "# add constants\n",
    "X = sm.add_constant(X)\n",
    "\n",
    "# model\n",
    "model = sm.OLS(Y, X)\n",
    "res = model.fit()\n",
    "\n",
    "# get summary\n",
    "res = res.summary()\n",
    "print(res)"
   ]
  },
  {
   "cell_type": "markdown",
   "metadata": {},
   "source": [
    "## Appendix\n",
    "\n",
    "This notebook was made with help of the following sources *(in no particular order)*\n",
    "\n",
    "[1] -  https://github.com/quantopian/research_public/blob/master/notebooks/lectures/Linear_Regression/notebook.ipynb $\\\\$\n",
    "[2] -  [Deriving the least squares estimators of the slope and intercept (simple linear regression)](https://www.youtube.com/watch?v=ewnc1cXJmGA&list=WL&index=2) $\\\\$\n",
    "[3] - https://en.wikipedia.org/wiki/Linear_least_squares $\\\\$\n",
    "[3] -  https://online.stat.psu.edu/stat462/node/132/\n"
   ]
  },
  {
   "cell_type": "markdown",
   "metadata": {},
   "source": []
  }
 ],
 "metadata": {
  "colab": {
   "provenance": []
  },
  "kernelspec": {
   "display_name": "research_env",
   "language": "python",
   "name": "python3"
  },
  "language_info": {
   "codemirror_mode": {
    "name": "ipython",
    "version": 3
   },
   "file_extension": ".py",
   "mimetype": "text/x-python",
   "name": "python",
   "nbconvert_exporter": "python",
   "pygments_lexer": "ipython3",
   "version": "3.13.5"
  }
 },
 "nbformat": 4,
 "nbformat_minor": 0
}
